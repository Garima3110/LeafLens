{
 "cells": [
  {
   "cell_type": "markdown",
   "id": "b2180edf-184e-46f3-b6af-7c1ae8e4a6aa",
   "metadata": {},
   "source": [
    "## Importing libraries"
   ]
  },
  {
   "cell_type": "code",
   "execution_count": 67,
   "id": "9a55415a-be9a-40c9-9fb2-b6075d38d32f",
   "metadata": {
    "scrolled": true
   },
   "outputs": [],
   "source": [
    "import tensorflow as tf\n",
    "import matplotlib.pyplot as plt\n",
    "import pandas as pd\n",
    "import seaborn as sns"
   ]
  },
  {
   "cell_type": "markdown",
   "id": "e805ac87-80d3-40ad-8957-d8df60860134",
   "metadata": {},
   "source": [
    "## Data Preprocessing"
   ]
  },
  {
   "cell_type": "markdown",
   "id": "1e7d921b-abc8-42a7-938f-e2d72999c834",
   "metadata": {},
   "source": [
    "### Training Image preprocessing"
   ]
  },
  {
   "cell_type": "code",
   "execution_count": 68,
   "id": "96c53b11-1327-4b73-99b8-ca04a4e3eef9",
   "metadata": {},
   "outputs": [
    {
     "name": "stdout",
     "output_type": "stream",
     "text": [
      "Found 70295 files belonging to 38 classes.\n"
     ]
    }
   ],
   "source": [
    "training_set=tf.keras.utils.image_dataset_from_directory(\n",
    "    'train',\n",
    "    labels=\"inferred\",\n",
    "    label_mode=\"categorical\",\n",
    "    class_names=None,\n",
    "    color_mode=\"rgb\",\n",
    "    batch_size=32,  #32 training examples will be fed to neural network at a time\n",
    "    image_size=(128, 128),\n",
    "    shuffle=True,\n",
    "    seed=None,\n",
    "    validation_split=None,\n",
    "    subset=None,\n",
    "    interpolation=\"bilinear\",\n",
    "    follow_links=False,\n",
    "    crop_to_aspect_ratio=False,\n",
    "    pad_to_aspect_ratio=False,\n",
    "    data_format=None,\n",
    "    verbose=True,\n",
    ")"
   ]
  },
  {
   "cell_type": "markdown",
   "id": "db940ba3",
   "metadata": {},
   "source": [
    "### Validation Image Processing"
   ]
  },
  {
   "cell_type": "code",
   "execution_count": 69,
   "id": "632f9ed5-d38f-488d-bf28-d106e82d58d6",
   "metadata": {},
   "outputs": [
    {
     "name": "stdout",
     "output_type": "stream",
     "text": [
      "Found 17572 files belonging to 38 classes.\n"
     ]
    }
   ],
   "source": [
    "validation_set=tf.keras.utils.image_dataset_from_directory(\n",
    "    'valid',\n",
    "    labels=\"inferred\",\n",
    "    label_mode=\"categorical\",\n",
    "    class_names=None,\n",
    "    color_mode=\"rgb\",\n",
    "    batch_size=32,\n",
    "    image_size=(128, 128),\n",
    "    shuffle=True,\n",
    "    seed=None,\n",
    "    validation_split=None,\n",
    "    subset=None,\n",
    "    interpolation=\"bilinear\",\n",
    "    follow_links=False,\n",
    "    crop_to_aspect_ratio=False,\n",
    "    pad_to_aspect_ratio=False,\n",
    "    data_format=None,\n",
    "    verbose=True,\n",
    ")"
   ]
  },
  {
   "cell_type": "code",
   "execution_count": 70,
   "id": "82682e2e",
   "metadata": {},
   "outputs": [
    {
     "data": {
      "text/plain": [
       "<_PrefetchDataset element_spec=(TensorSpec(shape=(None, 128, 128, 3), dtype=tf.float32, name=None), TensorSpec(shape=(None, 38), dtype=tf.float32, name=None))>"
      ]
     },
     "execution_count": 70,
     "metadata": {},
     "output_type": "execute_result"
    }
   ],
   "source": [
    "training_set"
   ]
  },
  {
   "cell_type": "code",
   "execution_count": 71,
   "id": "a7272108",
   "metadata": {},
   "outputs": [
    {
     "name": "stdout",
     "output_type": "stream",
     "text": [
      "tf.Tensor(\n",
      "[[[[165.5  165.5  165.5 ]\n",
      "   [179.5  179.5  179.5 ]\n",
      "   [183.   183.   183.  ]\n",
      "   ...\n",
      "   [200.5  200.5  200.5 ]\n",
      "   [204.25 204.25 204.25]\n",
      "   [207.   207.   207.  ]]\n",
      "\n",
      "  [[176.25 176.25 176.25]\n",
      "   [178.5  178.5  178.5 ]\n",
      "   [177.25 177.25 177.25]\n",
      "   ...\n",
      "   [204.75 204.75 204.75]\n",
      "   [206.5  206.5  206.5 ]\n",
      "   [203.25 203.25 203.25]]\n",
      "\n",
      "  [[179.75 179.75 179.75]\n",
      "   [184.5  184.5  184.5 ]\n",
      "   [185.5  185.5  185.5 ]\n",
      "   ...\n",
      "   [196.75 196.75 196.75]\n",
      "   [200.   200.   200.  ]\n",
      "   [204.25 204.25 204.25]]\n",
      "\n",
      "  ...\n",
      "\n",
      "  [[125.   121.   122.  ]\n",
      "   [121.   117.   118.  ]\n",
      "   [124.   120.   121.  ]\n",
      "   ...\n",
      "   [123.75 119.75 120.75]\n",
      "   [132.25 128.25 129.25]\n",
      "   [118.   114.   115.  ]]\n",
      "\n",
      "  [[124.25 120.25 121.25]\n",
      "   [119.   115.   116.  ]\n",
      "   [124.25 120.25 121.25]\n",
      "   ...\n",
      "   [119.25 115.25 116.25]\n",
      "   [120.5  116.5  117.5 ]\n",
      "   [121.75 117.75 118.75]]\n",
      "\n",
      "  [[130.   126.   127.  ]\n",
      "   [112.25 108.25 109.25]\n",
      "   [133.   129.   130.  ]\n",
      "   ...\n",
      "   [125.   121.   122.  ]\n",
      "   [128.5  124.5  125.5 ]\n",
      "   [123.25 119.25 120.25]]]\n",
      "\n",
      "\n",
      " [[[138.   116.   105.  ]\n",
      "   [125.25 103.25  92.25]\n",
      "   [164.75 142.75 131.75]\n",
      "   ...\n",
      "   [175.5  162.5  153.5 ]\n",
      "   [177.75 164.75 155.75]\n",
      "   [184.25 171.25 162.25]]\n",
      "\n",
      "  [[144.75 122.75 111.75]\n",
      "   [171.   149.   138.  ]\n",
      "   [153.75 131.75 120.75]\n",
      "   ...\n",
      "   [176.   163.   154.  ]\n",
      "   [186.5  173.5  164.5 ]\n",
      "   [183.   170.   161.  ]]\n",
      "\n",
      "  [[163.75 141.75 130.75]\n",
      "   [162.   140.   129.  ]\n",
      "   [158.25 136.25 125.25]\n",
      "   ...\n",
      "   [187.5  174.5  165.5 ]\n",
      "   [174.25 161.25 152.25]\n",
      "   [177.25 164.25 155.25]]\n",
      "\n",
      "  ...\n",
      "\n",
      "  [[151.5  130.5  113.5 ]\n",
      "   [143.25 122.25 105.25]\n",
      "   [156.   135.   118.  ]\n",
      "   ...\n",
      "   [164.   148.   135.  ]\n",
      "   [183.5  167.5  154.5 ]\n",
      "   [170.   154.   141.  ]]\n",
      "\n",
      "  [[165.   144.   127.  ]\n",
      "   [142.75 121.75 104.75]\n",
      "   [143.5  122.5  105.5 ]\n",
      "   ...\n",
      "   [173.5  157.5  144.5 ]\n",
      "   [175.5  159.5  146.5 ]\n",
      "   [167.25 151.25 138.25]]\n",
      "\n",
      "  [[156.25 135.25 118.25]\n",
      "   [156.75 135.75 118.75]\n",
      "   [140.75 119.75 102.75]\n",
      "   ...\n",
      "   [175.25 159.25 146.25]\n",
      "   [168.   152.   139.  ]\n",
      "   [179.5  163.5  150.5 ]]]\n",
      "\n",
      "\n",
      " [[[238.   226.5  236.  ]\n",
      "   [224.5  213.5  222.25]\n",
      "   [224.5  211.5  221.5 ]\n",
      "   ...\n",
      "   [254.75 254.75 254.75]\n",
      "   [245.   245.   245.  ]\n",
      "   [250.75 250.75 250.75]]\n",
      "\n",
      "  [[219.75 209.5  218.25]\n",
      "   [231.   220.   228.75]\n",
      "   [251.   240.25 249.  ]\n",
      "   ...\n",
      "   [253.   253.   253.  ]\n",
      "   [255.   255.   255.  ]\n",
      "   [252.   252.   252.  ]]\n",
      "\n",
      "  [[224.75 215.25 223.25]\n",
      "   [227.5  219.5  226.75]\n",
      "   [227.5  216.25 225.25]\n",
      "   ...\n",
      "   [253.75 253.75 253.75]\n",
      "   [252.5  252.5  252.5 ]\n",
      "   [255.   255.   255.  ]]\n",
      "\n",
      "  ...\n",
      "\n",
      "  [[247.25 245.5  248.  ]\n",
      "   [253.75 252.25 254.  ]\n",
      "   [255.   253.5  255.  ]\n",
      "   ...\n",
      "   [245.75 245.75 246.75]\n",
      "   [252.5  252.5  253.5 ]\n",
      "   [247.75 247.75 248.75]]\n",
      "\n",
      "  [[252.5  250.5  253.25]\n",
      "   [253.75 252.25 254.25]\n",
      "   [250.5  248.5  251.5 ]\n",
      "   ...\n",
      "   [251.5  251.5  252.5 ]\n",
      "   [240.5  240.5  242.  ]\n",
      "   [250.75 250.75 251.5 ]]\n",
      "\n",
      "  [[251.75 250.   252.5 ]\n",
      "   [254.25 252.75 254.75]\n",
      "   [252.5  251.   252.75]\n",
      "   ...\n",
      "   [215.5  215.5  217.  ]\n",
      "   [252.75 252.75 253.25]\n",
      "   [252.   252.   253.  ]]]\n",
      "\n",
      "\n",
      " ...\n",
      "\n",
      "\n",
      " [[[205.75 194.75 190.75]\n",
      "   [210.5  199.5  195.5 ]\n",
      "   [200.75 189.75 185.75]\n",
      "   ...\n",
      "   [206.25 197.25 192.25]\n",
      "   [206.   197.   192.  ]\n",
      "   [206.   197.   192.  ]]\n",
      "\n",
      "  [[197.75 186.75 182.75]\n",
      "   [194.75 183.75 179.75]\n",
      "   [200.25 189.25 185.25]\n",
      "   ...\n",
      "   [214.5  205.5  200.5 ]\n",
      "   [209.   200.   195.  ]\n",
      "   [202.75 193.75 188.75]]\n",
      "\n",
      "  [[195.25 184.25 180.25]\n",
      "   [201.   190.   186.  ]\n",
      "   [205.25 194.25 190.25]\n",
      "   ...\n",
      "   [198.25 189.25 184.25]\n",
      "   [206.75 197.75 192.75]\n",
      "   [209.75 200.75 195.75]]\n",
      "\n",
      "  ...\n",
      "\n",
      "  [[198.75 184.75 181.75]\n",
      "   [190.5  176.5  173.5 ]\n",
      "   [199.25 185.25 182.25]\n",
      "   ...\n",
      "   [202.25 191.25 185.25]\n",
      "   [202.   191.   185.  ]\n",
      "   [210.5  199.5  193.5 ]]\n",
      "\n",
      "  [[204.75 190.75 187.75]\n",
      "   [191.25 177.25 174.25]\n",
      "   [196.5  182.5  179.5 ]\n",
      "   ...\n",
      "   [203.5  192.5  186.5 ]\n",
      "   [205.25 194.25 188.25]\n",
      "   [197.   186.   180.  ]]\n",
      "\n",
      "  [[198.   184.   181.  ]\n",
      "   [204.75 190.75 187.75]\n",
      "   [199.   185.   182.  ]\n",
      "   ...\n",
      "   [203.25 192.25 186.25]\n",
      "   [208.25 197.25 191.25]\n",
      "   [196.   185.   179.  ]]]\n",
      "\n",
      "\n",
      " [[[165.25 162.25 173.25]\n",
      "   [171.75 168.75 179.75]\n",
      "   [168.5  165.5  176.5 ]\n",
      "   ...\n",
      "   [186.25 186.25 197.75]\n",
      "   [184.5  185.   191.25]\n",
      "   [176.   178.   175.  ]]\n",
      "\n",
      "  [[174.   171.   182.  ]\n",
      "   [178.25 175.25 186.25]\n",
      "   [167.5  164.5  175.5 ]\n",
      "   ...\n",
      "   [189.75 188.75 203.75]\n",
      "   [185.25 185.   196.5 ]\n",
      "   [174.   174.75 179.5 ]]\n",
      "\n",
      "  [[173.   170.   181.  ]\n",
      "   [169.25 166.25 177.25]\n",
      "   [175.25 172.25 183.25]\n",
      "   ...\n",
      "   [186.   183.25 199.5 ]\n",
      "   [187.25 185.   199.5 ]\n",
      "   [179.5  178.   187.5 ]]\n",
      "\n",
      "  ...\n",
      "\n",
      "  [[139.25 134.25 141.25]\n",
      "   [142.   137.   144.  ]\n",
      "   [129.5  124.5  131.5 ]\n",
      "   ...\n",
      "   [106.5  103.5  114.5 ]\n",
      "   [112.75 109.75 120.75]\n",
      "   [109.5  106.5  117.5 ]]\n",
      "\n",
      "  [[137.5  132.5  139.5 ]\n",
      "   [138.25 133.25 140.25]\n",
      "   [140.25 135.25 142.25]\n",
      "   ...\n",
      "   [116.25 113.25 124.25]\n",
      "   [103.75 100.75 111.75]\n",
      "   [105.25 102.25 113.25]]\n",
      "\n",
      "  [[135.75 130.75 137.75]\n",
      "   [141.25 136.25 143.25]\n",
      "   [144.   139.   146.  ]\n",
      "   ...\n",
      "   [117.   114.   125.  ]\n",
      "   [115.5  112.5  123.5 ]\n",
      "   [121.5  118.5  129.5 ]]]\n",
      "\n",
      "\n",
      " [[[142.75 139.75 148.75]\n",
      "   [152.25 149.25 158.25]\n",
      "   [148.75 145.75 154.75]\n",
      "   ...\n",
      "   [177.75 175.75 188.  ]\n",
      "   [174.25 171.25 190.25]\n",
      "   [176.25 172.75 195.75]]\n",
      "\n",
      "  [[157.   154.   163.  ]\n",
      "   [161.5  158.5  167.5 ]\n",
      "   [152.5  149.5  158.5 ]\n",
      "   ...\n",
      "   [188.5  187.5  194.  ]\n",
      "   [184.25 182.75 191.75]\n",
      "   [183.25 181.75 191.5 ]]\n",
      "\n",
      "  [[153.   150.   159.  ]\n",
      "   [146.5  143.5  152.5 ]\n",
      "   [135.25 132.25 141.25]\n",
      "   ...\n",
      "   [192.   189.75 195.25]\n",
      "   [185.25 183.25 185.75]\n",
      "   [174.75 173.25 173.25]]\n",
      "\n",
      "  ...\n",
      "\n",
      "  [[170.5  165.5  171.5 ]\n",
      "   [169.5  164.5  170.5 ]\n",
      "   [149.   144.   150.  ]\n",
      "   ...\n",
      "   [191.5  189.5  194.5 ]\n",
      "   [184.5  182.5  187.5 ]\n",
      "   [191.25 189.25 194.25]]\n",
      "\n",
      "  [[165.25 160.25 166.25]\n",
      "   [155.75 150.75 156.75]\n",
      "   [162.25 157.25 163.25]\n",
      "   ...\n",
      "   [195.75 193.75 198.75]\n",
      "   [192.75 190.75 195.75]\n",
      "   [193.75 191.75 196.75]]\n",
      "\n",
      "  [[157.25 152.25 158.25]\n",
      "   [154.25 149.25 155.25]\n",
      "   [149.5  144.5  150.5 ]\n",
      "   ...\n",
      "   [196.75 194.75 199.75]\n",
      "   [191.25 189.25 194.25]\n",
      "   [191.75 189.75 194.75]]]], shape=(32, 128, 128, 3), dtype=float32) (32, 128, 128, 3)\n",
      "tf.Tensor(\n",
      "[[0. 0. 0. ... 0. 0. 0.]\n",
      " [0. 0. 0. ... 0. 0. 0.]\n",
      " [0. 0. 0. ... 0. 0. 1.]\n",
      " ...\n",
      " [0. 0. 0. ... 0. 0. 0.]\n",
      " [0. 0. 0. ... 0. 0. 0.]\n",
      " [0. 0. 0. ... 0. 0. 0.]], shape=(32, 38), dtype=float32) (32, 38)\n"
     ]
    }
   ],
   "source": [
    "for x,y in training_set:\n",
    "    print(x,x.shape)\n",
    "    print(y,y.shape)\n",
    "    break"
   ]
  },
  {
   "cell_type": "markdown",
   "id": "e6308752",
   "metadata": {},
   "source": [
    "### To avoid Overshooting Loss function\n",
    "1. Choose small learning rate default 0.001 here we have taken 0.0001.\n",
    "2. There may be chance of underfitting so increase number of neurons.\n",
    "3. Add more Convolutional Layers to extract more features from images there may be possibilty that model is unable to capture relevant features or model is confusing due to lack of features, so feed with more features."
   ]
  },
  {
   "cell_type": "markdown",
   "id": "77780d42",
   "metadata": {},
   "source": [
    "## Building Model"
   ]
  },
  {
   "cell_type": "code",
   "execution_count": 72,
   "id": "e9050c14",
   "metadata": {},
   "outputs": [],
   "source": [
    "from tensorflow.keras.layers import Dense, Conv2D, MaxPool2D, Flatten,Dropout\n",
    "from tensorflow.keras.models import Sequential"
   ]
  },
  {
   "cell_type": "code",
   "execution_count": 73,
   "id": "801f4688",
   "metadata": {},
   "outputs": [],
   "source": [
    "model = Sequential()"
   ]
  },
  {
   "cell_type": "markdown",
   "id": "34bbcb1f",
   "metadata": {},
   "source": [
    "### Building Convolution Layer"
   ]
  },
  {
   "cell_type": "code",
   "execution_count": 74,
   "id": "cc89d190",
   "metadata": {},
   "outputs": [
    {
     "name": "stderr",
     "output_type": "stream",
     "text": [
      "c:\\Python311\\Lib\\site-packages\\keras\\src\\layers\\convolutional\\base_conv.py:107: UserWarning: Do not pass an `input_shape`/`input_dim` argument to a layer. When using Sequential models, prefer using an `Input(shape)` object as the first layer in the model instead.\n",
      "  super().__init__(activity_regularizer=activity_regularizer, **kwargs)\n"
     ]
    }
   ],
   "source": [
    "model.add(Conv2D(filters = 32, kernel_size = 3, padding = 'same', activation = 'relu', input_shape = [128, 128, 3]))\n",
    "model.add(Conv2D(filters = 32, kernel_size = 3, activation = 'relu'))\n",
    "model.add(MaxPool2D(pool_size = 2, strides = 2))"
   ]
  },
  {
   "cell_type": "code",
   "execution_count": 75,
   "id": "aae4857a",
   "metadata": {},
   "outputs": [],
   "source": [
    "model.add(Conv2D(filters = 64, kernel_size = 3, padding = 'same', activation = 'relu'))\n",
    "model.add(Conv2D(filters = 64, kernel_size = 3, activation = 'relu'))\n",
    "model.add(MaxPool2D(pool_size = 2, strides = 2))"
   ]
  },
  {
   "cell_type": "code",
   "execution_count": 76,
   "id": "e2af96b3",
   "metadata": {},
   "outputs": [],
   "source": [
    "model.add(Conv2D(filters = 128, kernel_size = 3, padding = 'same', activation = 'relu'))\n",
    "model.add(Conv2D(filters = 128, kernel_size = 3, activation = 'relu'))\n",
    "model.add(MaxPool2D(pool_size = 2, strides = 2))"
   ]
  },
  {
   "cell_type": "code",
   "execution_count": 77,
   "id": "67bb658f",
   "metadata": {},
   "outputs": [],
   "source": [
    "model.add(Conv2D(filters = 256, kernel_size = 3, padding = 'same', activation = 'relu'))\n",
    "model.add(Conv2D(filters = 256, kernel_size = 3, activation = 'relu'))\n",
    "model.add(MaxPool2D(pool_size = 2, strides = 2))"
   ]
  },
  {
   "cell_type": "code",
   "execution_count": 78,
   "id": "6ba9d6c3",
   "metadata": {},
   "outputs": [],
   "source": [
    "model.add(Conv2D(filters = 512, kernel_size = 3, padding = 'same', activation = 'relu'))\n",
    "model.add(Conv2D(filters = 512, kernel_size = 3, activation = 'relu'))\n",
    "model.add(MaxPool2D(pool_size = 2, strides = 2))"
   ]
  },
  {
   "cell_type": "code",
   "execution_count": 79,
   "id": "a94edcf5",
   "metadata": {},
   "outputs": [],
   "source": [
    "model.add(Dropout(0.25))   #decreases complexity of model hence preventing overfitting"
   ]
  },
  {
   "cell_type": "code",
   "execution_count": 80,
   "id": "7d7d523f",
   "metadata": {},
   "outputs": [],
   "source": [
    "model.add(Flatten())"
   ]
  },
  {
   "cell_type": "code",
   "execution_count": 81,
   "id": "ba1a45f2",
   "metadata": {},
   "outputs": [],
   "source": [
    "model.add(Dense(units = 1500, activation = 'relu'))"
   ]
  },
  {
   "cell_type": "code",
   "execution_count": 82,
   "id": "f7eb796f",
   "metadata": {},
   "outputs": [],
   "source": [
    "model.add(Dropout(0.4))  #dropping 40% of neurons"
   ]
  },
  {
   "cell_type": "code",
   "execution_count": 83,
   "id": "09d27228",
   "metadata": {},
   "outputs": [],
   "source": [
    "# Output Layer\n",
    "model.add(Dense(units = 38, activation = 'softmax'))"
   ]
  },
  {
   "cell_type": "markdown",
   "id": "039de430",
   "metadata": {},
   "source": [
    "### Compiling Model"
   ]
  },
  {
   "cell_type": "code",
   "execution_count": 91,
   "id": "8dd7709e",
   "metadata": {},
   "outputs": [],
   "source": [
    "model.compile(optimizer = tf.keras.optimizers.Adam(learning_rate=0.0001), loss = 'categorical_crossentropy', metrics = ['accuracy'])"
   ]
  },
  {
   "cell_type": "code",
   "execution_count": 92,
   "id": "03abff38",
   "metadata": {},
   "outputs": [
    {
     "data": {
      "text/html": [
       "<pre style=\"white-space:pre;overflow-x:auto;line-height:normal;font-family:Menlo,'DejaVu Sans Mono',consolas,'Courier New',monospace\"><span style=\"font-weight: bold\">Model: \"sequential_3\"</span>\n",
       "</pre>\n"
      ],
      "text/plain": [
       "\u001b[1mModel: \"sequential_3\"\u001b[0m\n"
      ]
     },
     "metadata": {},
     "output_type": "display_data"
    },
    {
     "data": {
      "text/html": [
       "<pre style=\"white-space:pre;overflow-x:auto;line-height:normal;font-family:Menlo,'DejaVu Sans Mono',consolas,'Courier New',monospace\">┏━━━━━━━━━━━━━━━━━━━━━━━━━━━━━━━━━┳━━━━━━━━━━━━━━━━━━━━━━━━┳━━━━━━━━━━━━━━━┓\n",
       "┃<span style=\"font-weight: bold\"> Layer (type)                    </span>┃<span style=\"font-weight: bold\"> Output Shape           </span>┃<span style=\"font-weight: bold\">       Param # </span>┃\n",
       "┡━━━━━━━━━━━━━━━━━━━━━━━━━━━━━━━━━╇━━━━━━━━━━━━━━━━━━━━━━━━╇━━━━━━━━━━━━━━━┩\n",
       "│ conv2d_18 (<span style=\"color: #0087ff; text-decoration-color: #0087ff\">Conv2D</span>)              │ (<span style=\"color: #00d7ff; text-decoration-color: #00d7ff\">None</span>, <span style=\"color: #00af00; text-decoration-color: #00af00\">128</span>, <span style=\"color: #00af00; text-decoration-color: #00af00\">128</span>, <span style=\"color: #00af00; text-decoration-color: #00af00\">32</span>)   │           <span style=\"color: #00af00; text-decoration-color: #00af00\">896</span> │\n",
       "├─────────────────────────────────┼────────────────────────┼───────────────┤\n",
       "│ conv2d_19 (<span style=\"color: #0087ff; text-decoration-color: #0087ff\">Conv2D</span>)              │ (<span style=\"color: #00d7ff; text-decoration-color: #00d7ff\">None</span>, <span style=\"color: #00af00; text-decoration-color: #00af00\">126</span>, <span style=\"color: #00af00; text-decoration-color: #00af00\">126</span>, <span style=\"color: #00af00; text-decoration-color: #00af00\">32</span>)   │         <span style=\"color: #00af00; text-decoration-color: #00af00\">9,248</span> │\n",
       "├─────────────────────────────────┼────────────────────────┼───────────────┤\n",
       "│ max_pooling2d_9 (<span style=\"color: #0087ff; text-decoration-color: #0087ff\">MaxPooling2D</span>)  │ (<span style=\"color: #00d7ff; text-decoration-color: #00d7ff\">None</span>, <span style=\"color: #00af00; text-decoration-color: #00af00\">63</span>, <span style=\"color: #00af00; text-decoration-color: #00af00\">63</span>, <span style=\"color: #00af00; text-decoration-color: #00af00\">32</span>)     │             <span style=\"color: #00af00; text-decoration-color: #00af00\">0</span> │\n",
       "├─────────────────────────────────┼────────────────────────┼───────────────┤\n",
       "│ conv2d_20 (<span style=\"color: #0087ff; text-decoration-color: #0087ff\">Conv2D</span>)              │ (<span style=\"color: #00d7ff; text-decoration-color: #00d7ff\">None</span>, <span style=\"color: #00af00; text-decoration-color: #00af00\">63</span>, <span style=\"color: #00af00; text-decoration-color: #00af00\">63</span>, <span style=\"color: #00af00; text-decoration-color: #00af00\">64</span>)     │        <span style=\"color: #00af00; text-decoration-color: #00af00\">18,496</span> │\n",
       "├─────────────────────────────────┼────────────────────────┼───────────────┤\n",
       "│ conv2d_21 (<span style=\"color: #0087ff; text-decoration-color: #0087ff\">Conv2D</span>)              │ (<span style=\"color: #00d7ff; text-decoration-color: #00d7ff\">None</span>, <span style=\"color: #00af00; text-decoration-color: #00af00\">61</span>, <span style=\"color: #00af00; text-decoration-color: #00af00\">61</span>, <span style=\"color: #00af00; text-decoration-color: #00af00\">64</span>)     │        <span style=\"color: #00af00; text-decoration-color: #00af00\">36,928</span> │\n",
       "├─────────────────────────────────┼────────────────────────┼───────────────┤\n",
       "│ max_pooling2d_10 (<span style=\"color: #0087ff; text-decoration-color: #0087ff\">MaxPooling2D</span>) │ (<span style=\"color: #00d7ff; text-decoration-color: #00d7ff\">None</span>, <span style=\"color: #00af00; text-decoration-color: #00af00\">30</span>, <span style=\"color: #00af00; text-decoration-color: #00af00\">30</span>, <span style=\"color: #00af00; text-decoration-color: #00af00\">64</span>)     │             <span style=\"color: #00af00; text-decoration-color: #00af00\">0</span> │\n",
       "├─────────────────────────────────┼────────────────────────┼───────────────┤\n",
       "│ conv2d_22 (<span style=\"color: #0087ff; text-decoration-color: #0087ff\">Conv2D</span>)              │ (<span style=\"color: #00d7ff; text-decoration-color: #00d7ff\">None</span>, <span style=\"color: #00af00; text-decoration-color: #00af00\">30</span>, <span style=\"color: #00af00; text-decoration-color: #00af00\">30</span>, <span style=\"color: #00af00; text-decoration-color: #00af00\">128</span>)    │        <span style=\"color: #00af00; text-decoration-color: #00af00\">73,856</span> │\n",
       "├─────────────────────────────────┼────────────────────────┼───────────────┤\n",
       "│ conv2d_23 (<span style=\"color: #0087ff; text-decoration-color: #0087ff\">Conv2D</span>)              │ (<span style=\"color: #00d7ff; text-decoration-color: #00d7ff\">None</span>, <span style=\"color: #00af00; text-decoration-color: #00af00\">28</span>, <span style=\"color: #00af00; text-decoration-color: #00af00\">28</span>, <span style=\"color: #00af00; text-decoration-color: #00af00\">128</span>)    │       <span style=\"color: #00af00; text-decoration-color: #00af00\">147,584</span> │\n",
       "├─────────────────────────────────┼────────────────────────┼───────────────┤\n",
       "│ max_pooling2d_11 (<span style=\"color: #0087ff; text-decoration-color: #0087ff\">MaxPooling2D</span>) │ (<span style=\"color: #00d7ff; text-decoration-color: #00d7ff\">None</span>, <span style=\"color: #00af00; text-decoration-color: #00af00\">14</span>, <span style=\"color: #00af00; text-decoration-color: #00af00\">14</span>, <span style=\"color: #00af00; text-decoration-color: #00af00\">128</span>)    │             <span style=\"color: #00af00; text-decoration-color: #00af00\">0</span> │\n",
       "├─────────────────────────────────┼────────────────────────┼───────────────┤\n",
       "│ conv2d_24 (<span style=\"color: #0087ff; text-decoration-color: #0087ff\">Conv2D</span>)              │ (<span style=\"color: #00d7ff; text-decoration-color: #00d7ff\">None</span>, <span style=\"color: #00af00; text-decoration-color: #00af00\">14</span>, <span style=\"color: #00af00; text-decoration-color: #00af00\">14</span>, <span style=\"color: #00af00; text-decoration-color: #00af00\">256</span>)    │       <span style=\"color: #00af00; text-decoration-color: #00af00\">295,168</span> │\n",
       "├─────────────────────────────────┼────────────────────────┼───────────────┤\n",
       "│ conv2d_25 (<span style=\"color: #0087ff; text-decoration-color: #0087ff\">Conv2D</span>)              │ (<span style=\"color: #00d7ff; text-decoration-color: #00d7ff\">None</span>, <span style=\"color: #00af00; text-decoration-color: #00af00\">12</span>, <span style=\"color: #00af00; text-decoration-color: #00af00\">12</span>, <span style=\"color: #00af00; text-decoration-color: #00af00\">256</span>)    │       <span style=\"color: #00af00; text-decoration-color: #00af00\">590,080</span> │\n",
       "├─────────────────────────────────┼────────────────────────┼───────────────┤\n",
       "│ max_pooling2d_12 (<span style=\"color: #0087ff; text-decoration-color: #0087ff\">MaxPooling2D</span>) │ (<span style=\"color: #00d7ff; text-decoration-color: #00d7ff\">None</span>, <span style=\"color: #00af00; text-decoration-color: #00af00\">6</span>, <span style=\"color: #00af00; text-decoration-color: #00af00\">6</span>, <span style=\"color: #00af00; text-decoration-color: #00af00\">256</span>)      │             <span style=\"color: #00af00; text-decoration-color: #00af00\">0</span> │\n",
       "├─────────────────────────────────┼────────────────────────┼───────────────┤\n",
       "│ conv2d_26 (<span style=\"color: #0087ff; text-decoration-color: #0087ff\">Conv2D</span>)              │ (<span style=\"color: #00d7ff; text-decoration-color: #00d7ff\">None</span>, <span style=\"color: #00af00; text-decoration-color: #00af00\">6</span>, <span style=\"color: #00af00; text-decoration-color: #00af00\">6</span>, <span style=\"color: #00af00; text-decoration-color: #00af00\">512</span>)      │     <span style=\"color: #00af00; text-decoration-color: #00af00\">1,180,160</span> │\n",
       "├─────────────────────────────────┼────────────────────────┼───────────────┤\n",
       "│ conv2d_27 (<span style=\"color: #0087ff; text-decoration-color: #0087ff\">Conv2D</span>)              │ (<span style=\"color: #00d7ff; text-decoration-color: #00d7ff\">None</span>, <span style=\"color: #00af00; text-decoration-color: #00af00\">4</span>, <span style=\"color: #00af00; text-decoration-color: #00af00\">4</span>, <span style=\"color: #00af00; text-decoration-color: #00af00\">512</span>)      │     <span style=\"color: #00af00; text-decoration-color: #00af00\">2,359,808</span> │\n",
       "├─────────────────────────────────┼────────────────────────┼───────────────┤\n",
       "│ max_pooling2d_13 (<span style=\"color: #0087ff; text-decoration-color: #0087ff\">MaxPooling2D</span>) │ (<span style=\"color: #00d7ff; text-decoration-color: #00d7ff\">None</span>, <span style=\"color: #00af00; text-decoration-color: #00af00\">2</span>, <span style=\"color: #00af00; text-decoration-color: #00af00\">2</span>, <span style=\"color: #00af00; text-decoration-color: #00af00\">512</span>)      │             <span style=\"color: #00af00; text-decoration-color: #00af00\">0</span> │\n",
       "├─────────────────────────────────┼────────────────────────┼───────────────┤\n",
       "│ dropout_2 (<span style=\"color: #0087ff; text-decoration-color: #0087ff\">Dropout</span>)             │ (<span style=\"color: #00d7ff; text-decoration-color: #00d7ff\">None</span>, <span style=\"color: #00af00; text-decoration-color: #00af00\">2</span>, <span style=\"color: #00af00; text-decoration-color: #00af00\">2</span>, <span style=\"color: #00af00; text-decoration-color: #00af00\">512</span>)      │             <span style=\"color: #00af00; text-decoration-color: #00af00\">0</span> │\n",
       "├─────────────────────────────────┼────────────────────────┼───────────────┤\n",
       "│ flatten_2 (<span style=\"color: #0087ff; text-decoration-color: #0087ff\">Flatten</span>)             │ (<span style=\"color: #00d7ff; text-decoration-color: #00d7ff\">None</span>, <span style=\"color: #00af00; text-decoration-color: #00af00\">2048</span>)           │             <span style=\"color: #00af00; text-decoration-color: #00af00\">0</span> │\n",
       "├─────────────────────────────────┼────────────────────────┼───────────────┤\n",
       "│ dense_4 (<span style=\"color: #0087ff; text-decoration-color: #0087ff\">Dense</span>)                 │ (<span style=\"color: #00d7ff; text-decoration-color: #00d7ff\">None</span>, <span style=\"color: #00af00; text-decoration-color: #00af00\">1500</span>)           │     <span style=\"color: #00af00; text-decoration-color: #00af00\">3,073,500</span> │\n",
       "├─────────────────────────────────┼────────────────────────┼───────────────┤\n",
       "│ dropout_3 (<span style=\"color: #0087ff; text-decoration-color: #0087ff\">Dropout</span>)             │ (<span style=\"color: #00d7ff; text-decoration-color: #00d7ff\">None</span>, <span style=\"color: #00af00; text-decoration-color: #00af00\">1500</span>)           │             <span style=\"color: #00af00; text-decoration-color: #00af00\">0</span> │\n",
       "├─────────────────────────────────┼────────────────────────┼───────────────┤\n",
       "│ dense_5 (<span style=\"color: #0087ff; text-decoration-color: #0087ff\">Dense</span>)                 │ (<span style=\"color: #00d7ff; text-decoration-color: #00d7ff\">None</span>, <span style=\"color: #00af00; text-decoration-color: #00af00\">38</span>)             │        <span style=\"color: #00af00; text-decoration-color: #00af00\">57,038</span> │\n",
       "└─────────────────────────────────┴────────────────────────┴───────────────┘\n",
       "</pre>\n"
      ],
      "text/plain": [
       "┏━━━━━━━━━━━━━━━━━━━━━━━━━━━━━━━━━┳━━━━━━━━━━━━━━━━━━━━━━━━┳━━━━━━━━━━━━━━━┓\n",
       "┃\u001b[1m \u001b[0m\u001b[1mLayer (type)                   \u001b[0m\u001b[1m \u001b[0m┃\u001b[1m \u001b[0m\u001b[1mOutput Shape          \u001b[0m\u001b[1m \u001b[0m┃\u001b[1m \u001b[0m\u001b[1m      Param #\u001b[0m\u001b[1m \u001b[0m┃\n",
       "┡━━━━━━━━━━━━━━━━━━━━━━━━━━━━━━━━━╇━━━━━━━━━━━━━━━━━━━━━━━━╇━━━━━━━━━━━━━━━┩\n",
       "│ conv2d_18 (\u001b[38;5;33mConv2D\u001b[0m)              │ (\u001b[38;5;45mNone\u001b[0m, \u001b[38;5;34m128\u001b[0m, \u001b[38;5;34m128\u001b[0m, \u001b[38;5;34m32\u001b[0m)   │           \u001b[38;5;34m896\u001b[0m │\n",
       "├─────────────────────────────────┼────────────────────────┼───────────────┤\n",
       "│ conv2d_19 (\u001b[38;5;33mConv2D\u001b[0m)              │ (\u001b[38;5;45mNone\u001b[0m, \u001b[38;5;34m126\u001b[0m, \u001b[38;5;34m126\u001b[0m, \u001b[38;5;34m32\u001b[0m)   │         \u001b[38;5;34m9,248\u001b[0m │\n",
       "├─────────────────────────────────┼────────────────────────┼───────────────┤\n",
       "│ max_pooling2d_9 (\u001b[38;5;33mMaxPooling2D\u001b[0m)  │ (\u001b[38;5;45mNone\u001b[0m, \u001b[38;5;34m63\u001b[0m, \u001b[38;5;34m63\u001b[0m, \u001b[38;5;34m32\u001b[0m)     │             \u001b[38;5;34m0\u001b[0m │\n",
       "├─────────────────────────────────┼────────────────────────┼───────────────┤\n",
       "│ conv2d_20 (\u001b[38;5;33mConv2D\u001b[0m)              │ (\u001b[38;5;45mNone\u001b[0m, \u001b[38;5;34m63\u001b[0m, \u001b[38;5;34m63\u001b[0m, \u001b[38;5;34m64\u001b[0m)     │        \u001b[38;5;34m18,496\u001b[0m │\n",
       "├─────────────────────────────────┼────────────────────────┼───────────────┤\n",
       "│ conv2d_21 (\u001b[38;5;33mConv2D\u001b[0m)              │ (\u001b[38;5;45mNone\u001b[0m, \u001b[38;5;34m61\u001b[0m, \u001b[38;5;34m61\u001b[0m, \u001b[38;5;34m64\u001b[0m)     │        \u001b[38;5;34m36,928\u001b[0m │\n",
       "├─────────────────────────────────┼────────────────────────┼───────────────┤\n",
       "│ max_pooling2d_10 (\u001b[38;5;33mMaxPooling2D\u001b[0m) │ (\u001b[38;5;45mNone\u001b[0m, \u001b[38;5;34m30\u001b[0m, \u001b[38;5;34m30\u001b[0m, \u001b[38;5;34m64\u001b[0m)     │             \u001b[38;5;34m0\u001b[0m │\n",
       "├─────────────────────────────────┼────────────────────────┼───────────────┤\n",
       "│ conv2d_22 (\u001b[38;5;33mConv2D\u001b[0m)              │ (\u001b[38;5;45mNone\u001b[0m, \u001b[38;5;34m30\u001b[0m, \u001b[38;5;34m30\u001b[0m, \u001b[38;5;34m128\u001b[0m)    │        \u001b[38;5;34m73,856\u001b[0m │\n",
       "├─────────────────────────────────┼────────────────────────┼───────────────┤\n",
       "│ conv2d_23 (\u001b[38;5;33mConv2D\u001b[0m)              │ (\u001b[38;5;45mNone\u001b[0m, \u001b[38;5;34m28\u001b[0m, \u001b[38;5;34m28\u001b[0m, \u001b[38;5;34m128\u001b[0m)    │       \u001b[38;5;34m147,584\u001b[0m │\n",
       "├─────────────────────────────────┼────────────────────────┼───────────────┤\n",
       "│ max_pooling2d_11 (\u001b[38;5;33mMaxPooling2D\u001b[0m) │ (\u001b[38;5;45mNone\u001b[0m, \u001b[38;5;34m14\u001b[0m, \u001b[38;5;34m14\u001b[0m, \u001b[38;5;34m128\u001b[0m)    │             \u001b[38;5;34m0\u001b[0m │\n",
       "├─────────────────────────────────┼────────────────────────┼───────────────┤\n",
       "│ conv2d_24 (\u001b[38;5;33mConv2D\u001b[0m)              │ (\u001b[38;5;45mNone\u001b[0m, \u001b[38;5;34m14\u001b[0m, \u001b[38;5;34m14\u001b[0m, \u001b[38;5;34m256\u001b[0m)    │       \u001b[38;5;34m295,168\u001b[0m │\n",
       "├─────────────────────────────────┼────────────────────────┼───────────────┤\n",
       "│ conv2d_25 (\u001b[38;5;33mConv2D\u001b[0m)              │ (\u001b[38;5;45mNone\u001b[0m, \u001b[38;5;34m12\u001b[0m, \u001b[38;5;34m12\u001b[0m, \u001b[38;5;34m256\u001b[0m)    │       \u001b[38;5;34m590,080\u001b[0m │\n",
       "├─────────────────────────────────┼────────────────────────┼───────────────┤\n",
       "│ max_pooling2d_12 (\u001b[38;5;33mMaxPooling2D\u001b[0m) │ (\u001b[38;5;45mNone\u001b[0m, \u001b[38;5;34m6\u001b[0m, \u001b[38;5;34m6\u001b[0m, \u001b[38;5;34m256\u001b[0m)      │             \u001b[38;5;34m0\u001b[0m │\n",
       "├─────────────────────────────────┼────────────────────────┼───────────────┤\n",
       "│ conv2d_26 (\u001b[38;5;33mConv2D\u001b[0m)              │ (\u001b[38;5;45mNone\u001b[0m, \u001b[38;5;34m6\u001b[0m, \u001b[38;5;34m6\u001b[0m, \u001b[38;5;34m512\u001b[0m)      │     \u001b[38;5;34m1,180,160\u001b[0m │\n",
       "├─────────────────────────────────┼────────────────────────┼───────────────┤\n",
       "│ conv2d_27 (\u001b[38;5;33mConv2D\u001b[0m)              │ (\u001b[38;5;45mNone\u001b[0m, \u001b[38;5;34m4\u001b[0m, \u001b[38;5;34m4\u001b[0m, \u001b[38;5;34m512\u001b[0m)      │     \u001b[38;5;34m2,359,808\u001b[0m │\n",
       "├─────────────────────────────────┼────────────────────────┼───────────────┤\n",
       "│ max_pooling2d_13 (\u001b[38;5;33mMaxPooling2D\u001b[0m) │ (\u001b[38;5;45mNone\u001b[0m, \u001b[38;5;34m2\u001b[0m, \u001b[38;5;34m2\u001b[0m, \u001b[38;5;34m512\u001b[0m)      │             \u001b[38;5;34m0\u001b[0m │\n",
       "├─────────────────────────────────┼────────────────────────┼───────────────┤\n",
       "│ dropout_2 (\u001b[38;5;33mDropout\u001b[0m)             │ (\u001b[38;5;45mNone\u001b[0m, \u001b[38;5;34m2\u001b[0m, \u001b[38;5;34m2\u001b[0m, \u001b[38;5;34m512\u001b[0m)      │             \u001b[38;5;34m0\u001b[0m │\n",
       "├─────────────────────────────────┼────────────────────────┼───────────────┤\n",
       "│ flatten_2 (\u001b[38;5;33mFlatten\u001b[0m)             │ (\u001b[38;5;45mNone\u001b[0m, \u001b[38;5;34m2048\u001b[0m)           │             \u001b[38;5;34m0\u001b[0m │\n",
       "├─────────────────────────────────┼────────────────────────┼───────────────┤\n",
       "│ dense_4 (\u001b[38;5;33mDense\u001b[0m)                 │ (\u001b[38;5;45mNone\u001b[0m, \u001b[38;5;34m1500\u001b[0m)           │     \u001b[38;5;34m3,073,500\u001b[0m │\n",
       "├─────────────────────────────────┼────────────────────────┼───────────────┤\n",
       "│ dropout_3 (\u001b[38;5;33mDropout\u001b[0m)             │ (\u001b[38;5;45mNone\u001b[0m, \u001b[38;5;34m1500\u001b[0m)           │             \u001b[38;5;34m0\u001b[0m │\n",
       "├─────────────────────────────────┼────────────────────────┼───────────────┤\n",
       "│ dense_5 (\u001b[38;5;33mDense\u001b[0m)                 │ (\u001b[38;5;45mNone\u001b[0m, \u001b[38;5;34m38\u001b[0m)             │        \u001b[38;5;34m57,038\u001b[0m │\n",
       "└─────────────────────────────────┴────────────────────────┴───────────────┘\n"
      ]
     },
     "metadata": {},
     "output_type": "display_data"
    },
    {
     "data": {
      "text/html": [
       "<pre style=\"white-space:pre;overflow-x:auto;line-height:normal;font-family:Menlo,'DejaVu Sans Mono',consolas,'Courier New',monospace\"><span style=\"font-weight: bold\"> Total params: </span><span style=\"color: #00af00; text-decoration-color: #00af00\">7,842,762</span> (29.92 MB)\n",
       "</pre>\n"
      ],
      "text/plain": [
       "\u001b[1m Total params: \u001b[0m\u001b[38;5;34m7,842,762\u001b[0m (29.92 MB)\n"
      ]
     },
     "metadata": {},
     "output_type": "display_data"
    },
    {
     "data": {
      "text/html": [
       "<pre style=\"white-space:pre;overflow-x:auto;line-height:normal;font-family:Menlo,'DejaVu Sans Mono',consolas,'Courier New',monospace\"><span style=\"font-weight: bold\"> Trainable params: </span><span style=\"color: #00af00; text-decoration-color: #00af00\">7,842,762</span> (29.92 MB)\n",
       "</pre>\n"
      ],
      "text/plain": [
       "\u001b[1m Trainable params: \u001b[0m\u001b[38;5;34m7,842,762\u001b[0m (29.92 MB)\n"
      ]
     },
     "metadata": {},
     "output_type": "display_data"
    },
    {
     "data": {
      "text/html": [
       "<pre style=\"white-space:pre;overflow-x:auto;line-height:normal;font-family:Menlo,'DejaVu Sans Mono',consolas,'Courier New',monospace\"><span style=\"font-weight: bold\"> Non-trainable params: </span><span style=\"color: #00af00; text-decoration-color: #00af00\">0</span> (0.00 B)\n",
       "</pre>\n"
      ],
      "text/plain": [
       "\u001b[1m Non-trainable params: \u001b[0m\u001b[38;5;34m0\u001b[0m (0.00 B)\n"
      ]
     },
     "metadata": {},
     "output_type": "display_data"
    }
   ],
   "source": [
    "model.summary()"
   ]
  },
  {
   "cell_type": "markdown",
   "id": "3fda1b8b",
   "metadata": {},
   "source": [
    "## Model Training"
   ]
  },
  {
   "cell_type": "code",
   "execution_count": null,
   "id": "bc0720e1",
   "metadata": {},
   "outputs": [],
   "source": [
    "training_history=model.fit(x=training_set,validation_data=validation_set,epochs=10)"
   ]
  },
  {
   "cell_type": "code",
   "execution_count": null,
   "id": "41a7ae23",
   "metadata": {},
   "outputs": [],
   "source": []
  }
 ],
 "metadata": {
  "kernelspec": {
   "display_name": "Python 3 (ipykernel)",
   "language": "python",
   "name": "python3"
  },
  "language_info": {
   "codemirror_mode": {
    "name": "ipython",
    "version": 3
   },
   "file_extension": ".py",
   "mimetype": "text/x-python",
   "name": "python",
   "nbconvert_exporter": "python",
   "pygments_lexer": "ipython3",
   "version": "3.11.4"
  }
 },
 "nbformat": 4,
 "nbformat_minor": 5
}
