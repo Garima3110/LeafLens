{
 "cells": [
  {
   "cell_type": "markdown",
   "id": "b2180edf-184e-46f3-b6af-7c1ae8e4a6aa",
   "metadata": {},
   "source": [
    "## Importing libraries"
   ]
  },
  {
   "cell_type": "code",
   "execution_count": 1,
   "id": "9a55415a-be9a-40c9-9fb2-b6075d38d32f",
   "metadata": {
    "scrolled": true
   },
   "outputs": [],
   "source": [
    "import tensorflow as tf\n",
    "import matplotlib.pyplot as plt\n",
    "import pandas as pd\n",
    "import seaborn as sns"
   ]
  },
  {
   "cell_type": "markdown",
   "id": "e805ac87-80d3-40ad-8957-d8df60860134",
   "metadata": {},
   "source": [
    "## Data Preprocessing"
   ]
  },
  {
   "cell_type": "markdown",
   "id": "1e7d921b-abc8-42a7-938f-e2d72999c834",
   "metadata": {},
   "source": [
    "### Training Image preprocessing"
   ]
  },
  {
   "cell_type": "code",
   "execution_count": 2,
   "id": "96c53b11-1327-4b73-99b8-ca04a4e3eef9",
   "metadata": {},
   "outputs": [
    {
     "name": "stdout",
     "output_type": "stream",
     "text": [
      "Found 70295 files belonging to 38 classes.\n"
     ]
    }
   ],
   "source": [
    "training_set=tf.keras.utils.image_dataset_from_directory(\n",
    "    'train',\n",
    "    labels=\"inferred\",\n",
    "    label_mode=\"categorical\",\n",
    "    class_names=None,\n",
    "    color_mode=\"rgb\",\n",
    "    batch_size=32,  #32 training examples will be fed to neural network at a time\n",
    "    image_size=(128, 128),\n",
    "    shuffle=True,\n",
    "    seed=None,\n",
    "    validation_split=None,\n",
    "    subset=None,\n",
    "    interpolation=\"bilinear\",\n",
    "    follow_links=False,\n",
    "    crop_to_aspect_ratio=False,\n",
    "    pad_to_aspect_ratio=False,\n",
    "    data_format=None,\n",
    "    verbose=True,\n",
    ")"
   ]
  },
  {
   "cell_type": "markdown",
   "id": "db940ba3",
   "metadata": {},
   "source": [
    "### Validation Image Processing"
   ]
  },
  {
   "cell_type": "code",
   "execution_count": 3,
   "id": "632f9ed5-d38f-488d-bf28-d106e82d58d6",
   "metadata": {},
   "outputs": [
    {
     "name": "stdout",
     "output_type": "stream",
     "text": [
      "Found 17572 files belonging to 38 classes.\n"
     ]
    }
   ],
   "source": [
    "validation_set=tf.keras.utils.image_dataset_from_directory(\n",
    "    'valid',\n",
    "    labels=\"inferred\",\n",
    "    label_mode=\"categorical\",\n",
    "    class_names=None,\n",
    "    color_mode=\"rgb\",\n",
    "    batch_size=32,\n",
    "    image_size=(128, 128),\n",
    "    shuffle=True,\n",
    "    seed=None,\n",
    "    validation_split=None,\n",
    "    subset=None,\n",
    "    interpolation=\"bilinear\",\n",
    "    follow_links=False,\n",
    "    crop_to_aspect_ratio=False,\n",
    "    pad_to_aspect_ratio=False,\n",
    "    data_format=None,\n",
    "    verbose=True,\n",
    ")"
   ]
  },
  {
   "cell_type": "code",
   "execution_count": 6,
   "id": "82682e2e",
   "metadata": {},
   "outputs": [
    {
     "data": {
      "text/plain": [
       "<_PrefetchDataset element_spec=(TensorSpec(shape=(None, 128, 128, 3), dtype=tf.float32, name=None), TensorSpec(shape=(None, 38), dtype=tf.float32, name=None))>"
      ]
     },
     "execution_count": 6,
     "metadata": {},
     "output_type": "execute_result"
    }
   ],
   "source": [
    "training_set"
   ]
  },
  {
   "cell_type": "code",
   "execution_count": 7,
   "id": "a7272108",
   "metadata": {},
   "outputs": [
    {
     "name": "stdout",
     "output_type": "stream",
     "text": [
      "tf.Tensor(\n",
      "[[[[170.5  165.5  169.5 ]\n",
      "   [169.75 164.75 168.75]\n",
      "   [168.75 163.75 167.75]\n",
      "   ...\n",
      "   [173.   167.   169.  ]\n",
      "   [173.25 167.25 169.25]\n",
      "   [171.75 165.75 167.75]]\n",
      "\n",
      "  [[168.5  163.5  167.5 ]\n",
      "   [168.5  163.5  167.5 ]\n",
      "   [168.   163.   167.  ]\n",
      "   ...\n",
      "   [168.75 162.75 164.75]\n",
      "   [169.75 163.75 165.75]\n",
      "   [173.25 167.25 169.25]]\n",
      "\n",
      "  [[168.5  163.5  167.5 ]\n",
      "   [169.   164.   168.  ]\n",
      "   [169.5  164.5  168.5 ]\n",
      "   ...\n",
      "   [170.75 164.75 166.75]\n",
      "   [173.25 167.25 169.25]\n",
      "   [172.25 166.25 168.25]]\n",
      "\n",
      "  ...\n",
      "\n",
      "  [[111.5  114.5  121.5 ]\n",
      "   [116.   119.   126.  ]\n",
      "   [111.25 114.25 121.25]\n",
      "   ...\n",
      "   [109.5  104.5  101.5 ]\n",
      "   [112.75 107.75 104.75]\n",
      "   [106.25 101.25  98.25]]\n",
      "\n",
      "  [[107.75 110.75 117.75]\n",
      "   [109.5  112.5  119.5 ]\n",
      "   [112.75 115.75 122.75]\n",
      "   ...\n",
      "   [119.   114.   111.  ]\n",
      "   [109.25 104.25 101.25]\n",
      "   [107.75 102.75  99.75]]\n",
      "\n",
      "  [[109.25 112.25 119.25]\n",
      "   [113.25 116.25 123.25]\n",
      "   [107.5  110.5  117.5 ]\n",
      "   ...\n",
      "   [118.   113.   110.  ]\n",
      "   [113.   108.   105.  ]\n",
      "   [111.25 106.25 103.25]]]\n",
      "\n",
      "\n",
      " [[[ 94.5  101.5  109.5 ]\n",
      "   [ 95.25 102.25 110.25]\n",
      "   [ 92.5   99.5  107.5 ]\n",
      "   ...\n",
      "   [127.25 136.25 145.25]\n",
      "   [125.   134.   143.  ]\n",
      "   [124.75 133.75 142.75]]\n",
      "\n",
      "  [[ 92.    99.   107.  ]\n",
      "   [ 98.25 105.25 113.25]\n",
      "   [ 99.5  106.5  114.5 ]\n",
      "   ...\n",
      "   [121.5  130.5  139.5 ]\n",
      "   [123.   132.   141.  ]\n",
      "   [127.75 136.75 145.75]]\n",
      "\n",
      "  [[ 95.   102.   110.  ]\n",
      "   [ 95.5  102.5  110.5 ]\n",
      "   [ 97.25 104.25 112.25]\n",
      "   ...\n",
      "   [126.75 135.75 144.75]\n",
      "   [125.5  134.5  143.5 ]\n",
      "   [126.75 135.75 144.75]]\n",
      "\n",
      "  ...\n",
      "\n",
      "  [[100.5  104.5  113.5 ]\n",
      "   [102.75 106.75 115.75]\n",
      "   [103.75 107.75 116.75]\n",
      "   ...\n",
      "   [154.5  163.5  172.5 ]\n",
      "   [151.5  160.5  169.5 ]\n",
      "   [145.75 154.75 163.75]]\n",
      "\n",
      "  [[104.   108.   117.  ]\n",
      "   [104.5  108.5  117.5 ]\n",
      "   [105.   109.   118.  ]\n",
      "   ...\n",
      "   [152.25 161.25 170.25]\n",
      "   [152.   161.   170.  ]\n",
      "   [150.   159.   168.  ]]\n",
      "\n",
      "  [[ 98.25 102.25 111.25]\n",
      "   [102.25 106.25 115.25]\n",
      "   [104.75 108.75 117.75]\n",
      "   ...\n",
      "   [147.5  156.5  165.5 ]\n",
      "   [145.5  154.5  163.5 ]\n",
      "   [146.75 155.75 164.75]]]\n",
      "\n",
      "\n",
      " [[[174.   165.   168.  ]\n",
      "   [176.25 167.25 170.25]\n",
      "   [174.5  165.5  168.5 ]\n",
      "   ...\n",
      "   [189.25 180.25 183.25]\n",
      "   [182.5  173.5  176.5 ]\n",
      "   [176.75 167.75 170.75]]\n",
      "\n",
      "  [[176.75 167.75 170.75]\n",
      "   [183.75 174.75 177.75]\n",
      "   [185.75 176.75 179.75]\n",
      "   ...\n",
      "   [179.   170.   173.  ]\n",
      "   [176.75 167.75 170.75]\n",
      "   [179.5  170.5  173.5 ]]\n",
      "\n",
      "  [[169.25 160.25 163.25]\n",
      "   [168.75 159.75 162.75]\n",
      "   [175.   166.   169.  ]\n",
      "   ...\n",
      "   [162.5  153.5  156.5 ]\n",
      "   [178.5  169.5  172.5 ]\n",
      "   [178.5  169.5  172.5 ]]\n",
      "\n",
      "  ...\n",
      "\n",
      "  [[128.75 114.75 113.75]\n",
      "   [120.5  106.5  105.5 ]\n",
      "   [133.5  119.5  118.5 ]\n",
      "   ...\n",
      "   [123.   111.   111.  ]\n",
      "   [135.25 123.25 123.25]\n",
      "   [130.   118.   118.  ]]\n",
      "\n",
      "  [[128.75 114.75 113.75]\n",
      "   [124.25 110.25 109.25]\n",
      "   [126.5  112.5  111.5 ]\n",
      "   ...\n",
      "   [126.75 114.75 114.75]\n",
      "   [141.   129.   129.  ]\n",
      "   [128.5  116.5  116.5 ]]\n",
      "\n",
      "  [[110.25  96.25  95.25]\n",
      "   [124.   110.   109.  ]\n",
      "   [113.75  99.75  98.75]\n",
      "   ...\n",
      "   [117.   105.   105.  ]\n",
      "   [118.25 106.25 106.25]\n",
      "   [123.25 111.25 111.25]]]\n",
      "\n",
      "\n",
      " ...\n",
      "\n",
      "\n",
      " [[[135.5  121.5  121.5 ]\n",
      "   [136.5  122.5  122.5 ]\n",
      "   [141.5  127.5  127.5 ]\n",
      "   ...\n",
      "   [157.25 145.25 145.25]\n",
      "   [154.75 142.75 142.75]\n",
      "   [159.75 147.75 147.75]]\n",
      "\n",
      "  [[136.   122.   122.  ]\n",
      "   [151.25 137.25 137.25]\n",
      "   [148.5  134.5  134.5 ]\n",
      "   ...\n",
      "   [146.25 134.25 134.25]\n",
      "   [151.75 139.75 139.75]\n",
      "   [157.5  145.5  145.5 ]]\n",
      "\n",
      "  [[141.75 127.75 127.75]\n",
      "   [148.75 134.75 134.75]\n",
      "   [141.75 127.75 127.75]\n",
      "   ...\n",
      "   [141.5  129.5  129.5 ]\n",
      "   [149.5  137.5  137.5 ]\n",
      "   [147.75 135.75 135.75]]\n",
      "\n",
      "  ...\n",
      "\n",
      "  [[138.   127.   133.  ]\n",
      "   [153.25 142.25 148.25]\n",
      "   [134.   123.   129.  ]\n",
      "   ...\n",
      "   [150.5  139.5  145.5 ]\n",
      "   [153.25 142.25 148.25]\n",
      "   [149.75 138.75 144.75]]\n",
      "\n",
      "  [[146.5  135.5  141.5 ]\n",
      "   [139.75 128.75 134.75]\n",
      "   [148.5  137.5  143.5 ]\n",
      "   ...\n",
      "   [142.75 131.75 137.75]\n",
      "   [140.   129.   135.  ]\n",
      "   [150.75 139.75 145.75]]\n",
      "\n",
      "  [[152.   141.   147.  ]\n",
      "   [139.   128.   134.  ]\n",
      "   [135.75 124.75 130.75]\n",
      "   ...\n",
      "   [141.75 130.75 136.75]\n",
      "   [144.   133.   139.  ]\n",
      "   [149.75 138.75 144.75]]]\n",
      "\n",
      "\n",
      " [[[ 62.25  51.25  59.25]\n",
      "   [124.   111.   121.  ]\n",
      "   [140.75 124.75 135.75]\n",
      "   ...\n",
      "   [186.   174.   184.  ]\n",
      "   [176.5  164.5  174.5 ]\n",
      "   [175.75 163.75 173.75]]\n",
      "\n",
      "  [[ 53.5   42.25  50.5 ]\n",
      "   [139.5  126.5  136.5 ]\n",
      "   [132.5  116.5  127.5 ]\n",
      "   ...\n",
      "   [183.5  171.5  181.5 ]\n",
      "   [180.5  168.5  178.5 ]\n",
      "   [187.25 175.25 185.25]]\n",
      "\n",
      "  [[ 64.    53.5   61.  ]\n",
      "   [127.25 114.25 124.25]\n",
      "   [129.75 113.75 124.75]\n",
      "   ...\n",
      "   [184.25 172.25 182.25]\n",
      "   [174.25 162.25 172.25]\n",
      "   [176.25 164.25 174.25]]\n",
      "\n",
      "  ...\n",
      "\n",
      "  [[ 69.    57.5   67.  ]\n",
      "   [122.5  110.5  120.5 ]\n",
      "   [123.   111.   121.  ]\n",
      "   ...\n",
      "   [164.75 152.75 164.75]\n",
      "   [163.5  151.5  163.5 ]\n",
      "   [156.   144.   156.  ]]\n",
      "\n",
      "  [[ 66.25  56.75  64.25]\n",
      "   [117.5  105.5  115.5 ]\n",
      "   [122.5  110.5  120.5 ]\n",
      "   ...\n",
      "   [163.25 151.25 163.25]\n",
      "   [152.75 140.75 152.75]\n",
      "   [160.5  148.5  160.5 ]]\n",
      "\n",
      "  [[ 63.75  54.25  61.75]\n",
      "   [116.5  104.5  114.5 ]\n",
      "   [128.75 116.75 126.75]\n",
      "   ...\n",
      "   [151.   139.   151.  ]\n",
      "   [135.25 123.25 135.25]\n",
      "   [152.   140.   152.  ]]]\n",
      "\n",
      "\n",
      " [[[ 73.75  72.75  68.75]\n",
      "   [ 68.5   67.5   63.5 ]\n",
      "   [ 70.75  69.75  65.75]\n",
      "   ...\n",
      "   [123.25 129.25 127.25]\n",
      "   [134.25 140.25 138.25]\n",
      "   [124.25 130.25 128.25]]\n",
      "\n",
      "  [[ 78.5   77.5   73.5 ]\n",
      "   [ 76.5   75.5   71.5 ]\n",
      "   [ 71.75  70.75  66.75]\n",
      "   ...\n",
      "   [123.75 129.75 127.75]\n",
      "   [127.5  133.5  131.5 ]\n",
      "   [122.   128.   126.  ]]\n",
      "\n",
      "  [[ 68.    67.    63.  ]\n",
      "   [ 87.    86.    82.  ]\n",
      "   [ 77.25  76.25  72.25]\n",
      "   ...\n",
      "   [125.75 131.75 129.75]\n",
      "   [123.75 129.75 127.75]\n",
      "   [122.75 128.75 126.75]]\n",
      "\n",
      "  ...\n",
      "\n",
      "  [[ 92.5   90.5   91.5 ]\n",
      "   [ 92.5   90.5   91.5 ]\n",
      "   [ 90.75  88.75  89.75]\n",
      "   ...\n",
      "   [104.5  104.5  106.5 ]\n",
      "   [107.   107.   109.  ]\n",
      "   [116.5  116.5  118.5 ]]\n",
      "\n",
      "  [[ 77.5   75.5   76.5 ]\n",
      "   [ 91.25  89.25  90.25]\n",
      "   [ 89.75  87.75  88.75]\n",
      "   ...\n",
      "   [110.5  110.5  112.5 ]\n",
      "   [109.25 109.25 111.25]\n",
      "   [112.75 112.75 114.75]]\n",
      "\n",
      "  [[ 82.5   80.5   81.5 ]\n",
      "   [ 79.25  77.25  78.25]\n",
      "   [ 87.    85.    86.  ]\n",
      "   ...\n",
      "   [113.   113.   115.  ]\n",
      "   [109.25 109.25 111.25]\n",
      "   [109.5  109.5  111.5 ]]]], shape=(32, 128, 128, 3), dtype=float32) (32, 128, 128, 3)\n",
      "tf.Tensor(\n",
      "[[0. 0. 0. ... 0. 0. 0.]\n",
      " [0. 0. 0. ... 0. 0. 0.]\n",
      " [0. 0. 0. ... 0. 0. 0.]\n",
      " ...\n",
      " [0. 0. 0. ... 0. 0. 0.]\n",
      " [0. 0. 0. ... 0. 1. 0.]\n",
      " [0. 0. 0. ... 0. 0. 0.]], shape=(32, 38), dtype=float32) (32, 38)\n"
     ]
    }
   ],
   "source": [
    "for x,y in training_set:\n",
    "    print(x,x.shape)\n",
    "    print(y,y.shape)\n",
    "    break"
   ]
  },
  {
   "cell_type": "markdown",
   "id": "77780d42",
   "metadata": {},
   "source": [
    "## Building Model"
   ]
  },
  {
   "cell_type": "code",
   "execution_count": 12,
   "id": "e9050c14",
   "metadata": {},
   "outputs": [],
   "source": [
    "from tensorflow.keras.layers import Dense, Conv2D, MaxPool2D, Flatten\n",
    "from tensorflow.keras.models import Sequential"
   ]
  },
  {
   "cell_type": "code",
   "execution_count": 13,
   "id": "801f4688",
   "metadata": {},
   "outputs": [],
   "source": [
    "model = Sequential()"
   ]
  },
  {
   "cell_type": "markdown",
   "id": "34bbcb1f",
   "metadata": {},
   "source": [
    "### Building Convolution Layer"
   ]
  },
  {
   "cell_type": "code",
   "execution_count": 14,
   "id": "cc89d190",
   "metadata": {},
   "outputs": [
    {
     "name": "stderr",
     "output_type": "stream",
     "text": [
      "C:\\Users\\win 10\\AppData\\Roaming\\Python\\Python312\\site-packages\\keras\\src\\layers\\convolutional\\base_conv.py:107: UserWarning: Do not pass an `input_shape`/`input_dim` argument to a layer. When using Sequential models, prefer using an `Input(shape)` object as the first layer in the model instead.\n",
      "  super().__init__(activity_regularizer=activity_regularizer, **kwargs)\n"
     ]
    }
   ],
   "source": [
    "model.add(Conv2D(filters = 32, kernel_size = 3, padding = 'same', activation = 'relu', input_shape = [128, 128, 3]))\n",
    "model.add(Conv2D(filters = 32, kernel_size = 3, padding = 'same', activation = 'relu'))\n",
    "model.add(MaxPool2D(pool_size = 2, strides = 2))"
   ]
  },
  {
   "cell_type": "code",
   "execution_count": 15,
   "id": "aae4857a",
   "metadata": {},
   "outputs": [],
   "source": [
    "model.add(Conv2D(filters = 64, kernel_size = 3, padding = 'same', activation = 'relu', input_shape = [128, 128, 3]))\n",
    "model.add(Conv2D(filters = 64, kernel_size = 3, padding = 'same', activation = 'relu'))\n",
    "model.add(MaxPool2D(pool_size = 2, strides = 2))"
   ]
  },
  {
   "cell_type": "code",
   "execution_count": 16,
   "id": "e2af96b3",
   "metadata": {},
   "outputs": [],
   "source": [
    "model.add(Conv2D(filters = 128, kernel_size = 3, padding = 'same', activation = 'relu', input_shape = [128, 128, 3]))\n",
    "model.add(Conv2D(filters = 128, kernel_size = 3, padding = 'same', activation = 'relu'))\n",
    "model.add(MaxPool2D(pool_size = 2, strides = 2))"
   ]
  },
  {
   "cell_type": "code",
   "execution_count": 17,
   "id": "67bb658f",
   "metadata": {},
   "outputs": [],
   "source": [
    "model.add(Conv2D(filters = 256, kernel_size = 3, padding = 'same', activation = 'relu', input_shape = [128, 128, 3]))\n",
    "model.add(Conv2D(filters = 256, kernel_size = 3, padding = 'same', activation = 'relu'))\n",
    "model.add(MaxPool2D(pool_size = 2, strides = 2))"
   ]
  },
  {
   "cell_type": "code",
   "execution_count": 18,
   "id": "7d7d523f",
   "metadata": {},
   "outputs": [],
   "source": [
    "model.add(Flatten())"
   ]
  },
  {
   "cell_type": "code",
   "execution_count": 19,
   "id": "ba1a45f2",
   "metadata": {},
   "outputs": [],
   "source": [
    "model.add(Dense(units = 1024, activation = 'relu'))"
   ]
  },
  {
   "cell_type": "code",
   "execution_count": 20,
   "id": "09d27228",
   "metadata": {},
   "outputs": [],
   "source": [
    "# Output Layer\n",
    "model.add(Dense(units = 38, activation = 'softmax'))"
   ]
  },
  {
   "cell_type": "markdown",
   "id": "039de430",
   "metadata": {},
   "source": [
    "### Compiling Model"
   ]
  },
  {
   "cell_type": "code",
   "execution_count": 21,
   "id": "8dd7709e",
   "metadata": {},
   "outputs": [],
   "source": [
    "model.compile(optimizer = 'adam', loss = 'categorical_crossentropy', metrics = ['accuracy'])"
   ]
  },
  {
   "cell_type": "code",
   "execution_count": 22,
   "id": "03abff38",
   "metadata": {},
   "outputs": [
    {
     "data": {
      "text/html": [
       "<pre style=\"white-space:pre;overflow-x:auto;line-height:normal;font-family:Menlo,'DejaVu Sans Mono',consolas,'Courier New',monospace\"><span style=\"font-weight: bold\">Model: \"sequential_1\"</span>\n",
       "</pre>\n"
      ],
      "text/plain": [
       "\u001b[1mModel: \"sequential_1\"\u001b[0m\n"
      ]
     },
     "metadata": {},
     "output_type": "display_data"
    },
    {
     "data": {
      "text/html": [
       "<pre style=\"white-space:pre;overflow-x:auto;line-height:normal;font-family:Menlo,'DejaVu Sans Mono',consolas,'Courier New',monospace\">┏━━━━━━━━━━━━━━━━━━━━━━━━━━━━━━━━━┳━━━━━━━━━━━━━━━━━━━━━━━━┳━━━━━━━━━━━━━━━┓\n",
       "┃<span style=\"font-weight: bold\"> Layer (type)                    </span>┃<span style=\"font-weight: bold\"> Output Shape           </span>┃<span style=\"font-weight: bold\">       Param # </span>┃\n",
       "┡━━━━━━━━━━━━━━━━━━━━━━━━━━━━━━━━━╇━━━━━━━━━━━━━━━━━━━━━━━━╇━━━━━━━━━━━━━━━┩\n",
       "│ conv2d (<span style=\"color: #0087ff; text-decoration-color: #0087ff\">Conv2D</span>)                 │ (<span style=\"color: #00d7ff; text-decoration-color: #00d7ff\">None</span>, <span style=\"color: #00af00; text-decoration-color: #00af00\">128</span>, <span style=\"color: #00af00; text-decoration-color: #00af00\">128</span>, <span style=\"color: #00af00; text-decoration-color: #00af00\">32</span>)   │           <span style=\"color: #00af00; text-decoration-color: #00af00\">896</span> │\n",
       "├─────────────────────────────────┼────────────────────────┼───────────────┤\n",
       "│ conv2d_1 (<span style=\"color: #0087ff; text-decoration-color: #0087ff\">Conv2D</span>)               │ (<span style=\"color: #00d7ff; text-decoration-color: #00d7ff\">None</span>, <span style=\"color: #00af00; text-decoration-color: #00af00\">128</span>, <span style=\"color: #00af00; text-decoration-color: #00af00\">128</span>, <span style=\"color: #00af00; text-decoration-color: #00af00\">32</span>)   │         <span style=\"color: #00af00; text-decoration-color: #00af00\">9,248</span> │\n",
       "├─────────────────────────────────┼────────────────────────┼───────────────┤\n",
       "│ max_pooling2d (<span style=\"color: #0087ff; text-decoration-color: #0087ff\">MaxPooling2D</span>)    │ (<span style=\"color: #00d7ff; text-decoration-color: #00d7ff\">None</span>, <span style=\"color: #00af00; text-decoration-color: #00af00\">64</span>, <span style=\"color: #00af00; text-decoration-color: #00af00\">64</span>, <span style=\"color: #00af00; text-decoration-color: #00af00\">32</span>)     │             <span style=\"color: #00af00; text-decoration-color: #00af00\">0</span> │\n",
       "├─────────────────────────────────┼────────────────────────┼───────────────┤\n",
       "│ conv2d_2 (<span style=\"color: #0087ff; text-decoration-color: #0087ff\">Conv2D</span>)               │ (<span style=\"color: #00d7ff; text-decoration-color: #00d7ff\">None</span>, <span style=\"color: #00af00; text-decoration-color: #00af00\">64</span>, <span style=\"color: #00af00; text-decoration-color: #00af00\">64</span>, <span style=\"color: #00af00; text-decoration-color: #00af00\">64</span>)     │        <span style=\"color: #00af00; text-decoration-color: #00af00\">18,496</span> │\n",
       "├─────────────────────────────────┼────────────────────────┼───────────────┤\n",
       "│ conv2d_3 (<span style=\"color: #0087ff; text-decoration-color: #0087ff\">Conv2D</span>)               │ (<span style=\"color: #00d7ff; text-decoration-color: #00d7ff\">None</span>, <span style=\"color: #00af00; text-decoration-color: #00af00\">64</span>, <span style=\"color: #00af00; text-decoration-color: #00af00\">64</span>, <span style=\"color: #00af00; text-decoration-color: #00af00\">64</span>)     │        <span style=\"color: #00af00; text-decoration-color: #00af00\">36,928</span> │\n",
       "├─────────────────────────────────┼────────────────────────┼───────────────┤\n",
       "│ max_pooling2d_1 (<span style=\"color: #0087ff; text-decoration-color: #0087ff\">MaxPooling2D</span>)  │ (<span style=\"color: #00d7ff; text-decoration-color: #00d7ff\">None</span>, <span style=\"color: #00af00; text-decoration-color: #00af00\">32</span>, <span style=\"color: #00af00; text-decoration-color: #00af00\">32</span>, <span style=\"color: #00af00; text-decoration-color: #00af00\">64</span>)     │             <span style=\"color: #00af00; text-decoration-color: #00af00\">0</span> │\n",
       "├─────────────────────────────────┼────────────────────────┼───────────────┤\n",
       "│ conv2d_4 (<span style=\"color: #0087ff; text-decoration-color: #0087ff\">Conv2D</span>)               │ (<span style=\"color: #00d7ff; text-decoration-color: #00d7ff\">None</span>, <span style=\"color: #00af00; text-decoration-color: #00af00\">32</span>, <span style=\"color: #00af00; text-decoration-color: #00af00\">32</span>, <span style=\"color: #00af00; text-decoration-color: #00af00\">128</span>)    │        <span style=\"color: #00af00; text-decoration-color: #00af00\">73,856</span> │\n",
       "├─────────────────────────────────┼────────────────────────┼───────────────┤\n",
       "│ conv2d_5 (<span style=\"color: #0087ff; text-decoration-color: #0087ff\">Conv2D</span>)               │ (<span style=\"color: #00d7ff; text-decoration-color: #00d7ff\">None</span>, <span style=\"color: #00af00; text-decoration-color: #00af00\">32</span>, <span style=\"color: #00af00; text-decoration-color: #00af00\">32</span>, <span style=\"color: #00af00; text-decoration-color: #00af00\">128</span>)    │       <span style=\"color: #00af00; text-decoration-color: #00af00\">147,584</span> │\n",
       "├─────────────────────────────────┼────────────────────────┼───────────────┤\n",
       "│ max_pooling2d_2 (<span style=\"color: #0087ff; text-decoration-color: #0087ff\">MaxPooling2D</span>)  │ (<span style=\"color: #00d7ff; text-decoration-color: #00d7ff\">None</span>, <span style=\"color: #00af00; text-decoration-color: #00af00\">16</span>, <span style=\"color: #00af00; text-decoration-color: #00af00\">16</span>, <span style=\"color: #00af00; text-decoration-color: #00af00\">128</span>)    │             <span style=\"color: #00af00; text-decoration-color: #00af00\">0</span> │\n",
       "├─────────────────────────────────┼────────────────────────┼───────────────┤\n",
       "│ conv2d_6 (<span style=\"color: #0087ff; text-decoration-color: #0087ff\">Conv2D</span>)               │ (<span style=\"color: #00d7ff; text-decoration-color: #00d7ff\">None</span>, <span style=\"color: #00af00; text-decoration-color: #00af00\">16</span>, <span style=\"color: #00af00; text-decoration-color: #00af00\">16</span>, <span style=\"color: #00af00; text-decoration-color: #00af00\">256</span>)    │       <span style=\"color: #00af00; text-decoration-color: #00af00\">295,168</span> │\n",
       "├─────────────────────────────────┼────────────────────────┼───────────────┤\n",
       "│ conv2d_7 (<span style=\"color: #0087ff; text-decoration-color: #0087ff\">Conv2D</span>)               │ (<span style=\"color: #00d7ff; text-decoration-color: #00d7ff\">None</span>, <span style=\"color: #00af00; text-decoration-color: #00af00\">16</span>, <span style=\"color: #00af00; text-decoration-color: #00af00\">16</span>, <span style=\"color: #00af00; text-decoration-color: #00af00\">256</span>)    │       <span style=\"color: #00af00; text-decoration-color: #00af00\">590,080</span> │\n",
       "├─────────────────────────────────┼────────────────────────┼───────────────┤\n",
       "│ max_pooling2d_3 (<span style=\"color: #0087ff; text-decoration-color: #0087ff\">MaxPooling2D</span>)  │ (<span style=\"color: #00d7ff; text-decoration-color: #00d7ff\">None</span>, <span style=\"color: #00af00; text-decoration-color: #00af00\">8</span>, <span style=\"color: #00af00; text-decoration-color: #00af00\">8</span>, <span style=\"color: #00af00; text-decoration-color: #00af00\">256</span>)      │             <span style=\"color: #00af00; text-decoration-color: #00af00\">0</span> │\n",
       "├─────────────────────────────────┼────────────────────────┼───────────────┤\n",
       "│ flatten (<span style=\"color: #0087ff; text-decoration-color: #0087ff\">Flatten</span>)               │ (<span style=\"color: #00d7ff; text-decoration-color: #00d7ff\">None</span>, <span style=\"color: #00af00; text-decoration-color: #00af00\">16384</span>)          │             <span style=\"color: #00af00; text-decoration-color: #00af00\">0</span> │\n",
       "├─────────────────────────────────┼────────────────────────┼───────────────┤\n",
       "│ dense (<span style=\"color: #0087ff; text-decoration-color: #0087ff\">Dense</span>)                   │ (<span style=\"color: #00d7ff; text-decoration-color: #00d7ff\">None</span>, <span style=\"color: #00af00; text-decoration-color: #00af00\">1024</span>)           │    <span style=\"color: #00af00; text-decoration-color: #00af00\">16,778,240</span> │\n",
       "├─────────────────────────────────┼────────────────────────┼───────────────┤\n",
       "│ dense_1 (<span style=\"color: #0087ff; text-decoration-color: #0087ff\">Dense</span>)                 │ (<span style=\"color: #00d7ff; text-decoration-color: #00d7ff\">None</span>, <span style=\"color: #00af00; text-decoration-color: #00af00\">38</span>)             │        <span style=\"color: #00af00; text-decoration-color: #00af00\">38,950</span> │\n",
       "└─────────────────────────────────┴────────────────────────┴───────────────┘\n",
       "</pre>\n"
      ],
      "text/plain": [
       "┏━━━━━━━━━━━━━━━━━━━━━━━━━━━━━━━━━┳━━━━━━━━━━━━━━━━━━━━━━━━┳━━━━━━━━━━━━━━━┓\n",
       "┃\u001b[1m \u001b[0m\u001b[1mLayer (type)                   \u001b[0m\u001b[1m \u001b[0m┃\u001b[1m \u001b[0m\u001b[1mOutput Shape          \u001b[0m\u001b[1m \u001b[0m┃\u001b[1m \u001b[0m\u001b[1m      Param #\u001b[0m\u001b[1m \u001b[0m┃\n",
       "┡━━━━━━━━━━━━━━━━━━━━━━━━━━━━━━━━━╇━━━━━━━━━━━━━━━━━━━━━━━━╇━━━━━━━━━━━━━━━┩\n",
       "│ conv2d (\u001b[38;5;33mConv2D\u001b[0m)                 │ (\u001b[38;5;45mNone\u001b[0m, \u001b[38;5;34m128\u001b[0m, \u001b[38;5;34m128\u001b[0m, \u001b[38;5;34m32\u001b[0m)   │           \u001b[38;5;34m896\u001b[0m │\n",
       "├─────────────────────────────────┼────────────────────────┼───────────────┤\n",
       "│ conv2d_1 (\u001b[38;5;33mConv2D\u001b[0m)               │ (\u001b[38;5;45mNone\u001b[0m, \u001b[38;5;34m128\u001b[0m, \u001b[38;5;34m128\u001b[0m, \u001b[38;5;34m32\u001b[0m)   │         \u001b[38;5;34m9,248\u001b[0m │\n",
       "├─────────────────────────────────┼────────────────────────┼───────────────┤\n",
       "│ max_pooling2d (\u001b[38;5;33mMaxPooling2D\u001b[0m)    │ (\u001b[38;5;45mNone\u001b[0m, \u001b[38;5;34m64\u001b[0m, \u001b[38;5;34m64\u001b[0m, \u001b[38;5;34m32\u001b[0m)     │             \u001b[38;5;34m0\u001b[0m │\n",
       "├─────────────────────────────────┼────────────────────────┼───────────────┤\n",
       "│ conv2d_2 (\u001b[38;5;33mConv2D\u001b[0m)               │ (\u001b[38;5;45mNone\u001b[0m, \u001b[38;5;34m64\u001b[0m, \u001b[38;5;34m64\u001b[0m, \u001b[38;5;34m64\u001b[0m)     │        \u001b[38;5;34m18,496\u001b[0m │\n",
       "├─────────────────────────────────┼────────────────────────┼───────────────┤\n",
       "│ conv2d_3 (\u001b[38;5;33mConv2D\u001b[0m)               │ (\u001b[38;5;45mNone\u001b[0m, \u001b[38;5;34m64\u001b[0m, \u001b[38;5;34m64\u001b[0m, \u001b[38;5;34m64\u001b[0m)     │        \u001b[38;5;34m36,928\u001b[0m │\n",
       "├─────────────────────────────────┼────────────────────────┼───────────────┤\n",
       "│ max_pooling2d_1 (\u001b[38;5;33mMaxPooling2D\u001b[0m)  │ (\u001b[38;5;45mNone\u001b[0m, \u001b[38;5;34m32\u001b[0m, \u001b[38;5;34m32\u001b[0m, \u001b[38;5;34m64\u001b[0m)     │             \u001b[38;5;34m0\u001b[0m │\n",
       "├─────────────────────────────────┼────────────────────────┼───────────────┤\n",
       "│ conv2d_4 (\u001b[38;5;33mConv2D\u001b[0m)               │ (\u001b[38;5;45mNone\u001b[0m, \u001b[38;5;34m32\u001b[0m, \u001b[38;5;34m32\u001b[0m, \u001b[38;5;34m128\u001b[0m)    │        \u001b[38;5;34m73,856\u001b[0m │\n",
       "├─────────────────────────────────┼────────────────────────┼───────────────┤\n",
       "│ conv2d_5 (\u001b[38;5;33mConv2D\u001b[0m)               │ (\u001b[38;5;45mNone\u001b[0m, \u001b[38;5;34m32\u001b[0m, \u001b[38;5;34m32\u001b[0m, \u001b[38;5;34m128\u001b[0m)    │       \u001b[38;5;34m147,584\u001b[0m │\n",
       "├─────────────────────────────────┼────────────────────────┼───────────────┤\n",
       "│ max_pooling2d_2 (\u001b[38;5;33mMaxPooling2D\u001b[0m)  │ (\u001b[38;5;45mNone\u001b[0m, \u001b[38;5;34m16\u001b[0m, \u001b[38;5;34m16\u001b[0m, \u001b[38;5;34m128\u001b[0m)    │             \u001b[38;5;34m0\u001b[0m │\n",
       "├─────────────────────────────────┼────────────────────────┼───────────────┤\n",
       "│ conv2d_6 (\u001b[38;5;33mConv2D\u001b[0m)               │ (\u001b[38;5;45mNone\u001b[0m, \u001b[38;5;34m16\u001b[0m, \u001b[38;5;34m16\u001b[0m, \u001b[38;5;34m256\u001b[0m)    │       \u001b[38;5;34m295,168\u001b[0m │\n",
       "├─────────────────────────────────┼────────────────────────┼───────────────┤\n",
       "│ conv2d_7 (\u001b[38;5;33mConv2D\u001b[0m)               │ (\u001b[38;5;45mNone\u001b[0m, \u001b[38;5;34m16\u001b[0m, \u001b[38;5;34m16\u001b[0m, \u001b[38;5;34m256\u001b[0m)    │       \u001b[38;5;34m590,080\u001b[0m │\n",
       "├─────────────────────────────────┼────────────────────────┼───────────────┤\n",
       "│ max_pooling2d_3 (\u001b[38;5;33mMaxPooling2D\u001b[0m)  │ (\u001b[38;5;45mNone\u001b[0m, \u001b[38;5;34m8\u001b[0m, \u001b[38;5;34m8\u001b[0m, \u001b[38;5;34m256\u001b[0m)      │             \u001b[38;5;34m0\u001b[0m │\n",
       "├─────────────────────────────────┼────────────────────────┼───────────────┤\n",
       "│ flatten (\u001b[38;5;33mFlatten\u001b[0m)               │ (\u001b[38;5;45mNone\u001b[0m, \u001b[38;5;34m16384\u001b[0m)          │             \u001b[38;5;34m0\u001b[0m │\n",
       "├─────────────────────────────────┼────────────────────────┼───────────────┤\n",
       "│ dense (\u001b[38;5;33mDense\u001b[0m)                   │ (\u001b[38;5;45mNone\u001b[0m, \u001b[38;5;34m1024\u001b[0m)           │    \u001b[38;5;34m16,778,240\u001b[0m │\n",
       "├─────────────────────────────────┼────────────────────────┼───────────────┤\n",
       "│ dense_1 (\u001b[38;5;33mDense\u001b[0m)                 │ (\u001b[38;5;45mNone\u001b[0m, \u001b[38;5;34m38\u001b[0m)             │        \u001b[38;5;34m38,950\u001b[0m │\n",
       "└─────────────────────────────────┴────────────────────────┴───────────────┘\n"
      ]
     },
     "metadata": {},
     "output_type": "display_data"
    },
    {
     "data": {
      "text/html": [
       "<pre style=\"white-space:pre;overflow-x:auto;line-height:normal;font-family:Menlo,'DejaVu Sans Mono',consolas,'Courier New',monospace\"><span style=\"font-weight: bold\"> Total params: </span><span style=\"color: #00af00; text-decoration-color: #00af00\">17,989,446</span> (68.62 MB)\n",
       "</pre>\n"
      ],
      "text/plain": [
       "\u001b[1m Total params: \u001b[0m\u001b[38;5;34m17,989,446\u001b[0m (68.62 MB)\n"
      ]
     },
     "metadata": {},
     "output_type": "display_data"
    },
    {
     "data": {
      "text/html": [
       "<pre style=\"white-space:pre;overflow-x:auto;line-height:normal;font-family:Menlo,'DejaVu Sans Mono',consolas,'Courier New',monospace\"><span style=\"font-weight: bold\"> Trainable params: </span><span style=\"color: #00af00; text-decoration-color: #00af00\">17,989,446</span> (68.62 MB)\n",
       "</pre>\n"
      ],
      "text/plain": [
       "\u001b[1m Trainable params: \u001b[0m\u001b[38;5;34m17,989,446\u001b[0m (68.62 MB)\n"
      ]
     },
     "metadata": {},
     "output_type": "display_data"
    },
    {
     "data": {
      "text/html": [
       "<pre style=\"white-space:pre;overflow-x:auto;line-height:normal;font-family:Menlo,'DejaVu Sans Mono',consolas,'Courier New',monospace\"><span style=\"font-weight: bold\"> Non-trainable params: </span><span style=\"color: #00af00; text-decoration-color: #00af00\">0</span> (0.00 B)\n",
       "</pre>\n"
      ],
      "text/plain": [
       "\u001b[1m Non-trainable params: \u001b[0m\u001b[38;5;34m0\u001b[0m (0.00 B)\n"
      ]
     },
     "metadata": {},
     "output_type": "display_data"
    }
   ],
   "source": [
    "model.summary()"
   ]
  }
 ],
 "metadata": {
  "kernelspec": {
   "display_name": "base",
   "language": "python",
   "name": "python3"
  },
  "language_info": {
   "codemirror_mode": {
    "name": "ipython",
    "version": 3
   },
   "file_extension": ".py",
   "mimetype": "text/x-python",
   "name": "python",
   "nbconvert_exporter": "python",
   "pygments_lexer": "ipython3",
   "version": "3.12.7"
  }
 },
 "nbformat": 4,
 "nbformat_minor": 5
}
